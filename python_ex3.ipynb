{
  "cells": [
    {
      "cell_type": "markdown",
      "metadata": {
        "id": "view-in-github",
        "colab_type": "text"
      },
      "source": [
        "<a href=\"https://colab.research.google.com/github/youngpaper1115/Python_Programming_Example/blob/master/python_ex3.ipynb\" target=\"_parent\"><img src=\"https://colab.research.google.com/assets/colab-badge.svg\" alt=\"Open In Colab\"/></a>"
      ]
    },
    {
      "cell_type": "markdown",
      "source": [
        "**이름: 이종영**"
      ],
      "metadata": {
        "id": "3xmleFTg_Crx"
      }
    },
    {
      "cell_type": "markdown",
      "metadata": {
        "id": "fNYj3jpx-_JY"
      },
      "source": [
        "## 1. 다음은 두 개의 숫자를 입력받아 더하여 돌려주는 프로그램이다. 1과 2를 입력했을 때 3이 아닌 12이라는 결괏값을 돌려주었다. 이 프로그램의 오류를 수정해 보자. "
      ]
    },
    {
      "cell_type": "code",
      "execution_count": 3,
      "metadata": {
        "id": "vnhAjq5GVysW",
        "colab": {
          "base_uri": "https://localhost:8080/"
        },
        "outputId": "0df0ad8a-99c5-4ec9-d59f-4b5c217aaf6c"
      },
      "outputs": [
        {
          "output_type": "stream",
          "name": "stdout",
          "text": [
            "첫번재 숫자를 입력하세요:1\n",
            "두번째 숫자를 입력하세요:2\n",
            "두 수의 합은 3 입니다\n"
          ]
        }
      ],
      "source": [
        "input1 = input(\"첫번재 숫자를 입력하세요:\")\n",
        "input2 = input(\"두번째 숫자를 입력하세요:\")\n",
        "\n",
        "\n",
        "# num_input1 = input1 -> 숫자로 변환해주어야 함\n",
        "# num_input2 = input2 -> 숫자로 변환해주어야 함\n",
        "\n",
        "num_input1 = int(input1)\n",
        "num_input2 = int(input2)\n",
        "\n",
        "total = num_input1 + num_input2\n",
        "print(\"두 수의 합은 %s 입니다\" % total)"
      ]
    },
    {
      "cell_type": "markdown",
      "metadata": {
        "id": "zc7Qib07-_JZ"
      },
      "source": [
        "## 2. 아래와 같이 총 10줄로 이루어진 sample2.txt 파일이 있다. 아래와 같이 sample.txt 파일의 숫자값을 모두 읽어 총합과 평균값을 구한 후 평균값을  result2.txt 라는 파일에 쓰는 프로그램을 작성해 보자. "
      ]
    },
    {
      "cell_type": "code",
      "source": [
        "# local에서 활용할시 skip\n",
        "# 구글 드라이브에서 파일 연동을 하려면 drive에 연동해야함. https://funfunfuhaha.tistory.com/7 참고 (Enter your authorization code는 필요 없는 것 같음)\n",
        "from google.colab import drive\n",
        "drive.mount('/content/gdrive')"
      ],
      "metadata": {
        "colab": {
          "base_uri": "https://localhost:8080/"
        },
        "id": "_5NjKiQuxUDd",
        "outputId": "c9a47704-25b3-4ebf-e146-299a7a3fb426"
      },
      "execution_count": 5,
      "outputs": [
        {
          "output_type": "stream",
          "name": "stdout",
          "text": [
            "Drive already mounted at /content/gdrive; to attempt to forcibly remount, call drive.mount(\"/content/gdrive\", force_remount=True).\n"
          ]
        }
      ]
    },
    {
      "cell_type": "code",
      "execution_count": 7,
      "metadata": {
        "id": "mBBHjZu3WWf0"
      },
      "outputs": [],
      "source": [
        "f= open(\"/content/gdrive/MyDrive/Python_SNU/data/sample2.txt\",'r')\n",
        "## 본인의 경로에 맞게 수정. /content/gdrive/My Drive/ 까지가 기본 google drive 내의 내 드라이브 경로이고 그 이후 경로를 본인의 폴더에 맞게 수정.\n",
        "## data 폴더를 다운받아 각자 구글 드라이브에 업로드\n",
        "#f= open(\"/content/gdrive/My Drive/python/data/sample.txt\",'r')\n",
        "lines = f.readlines()\n",
        "f.close()\n",
        "\n",
        "total = 0\n",
        "for line in lines:\n",
        "    score = int(line)\n",
        "    total += score\n",
        "\n",
        "average = total / len(lines)\n",
        "\n",
        "f = open(\"/content/gdrive/MyDrive/Python_SNU/data/result2.txt\",'w')  ## 본인의 경로에 맞게 수정하세요!\n",
        "f.write(str(average))\n",
        "f.close()"
      ]
    },
    {
      "cell_type": "code",
      "source": [
        ""
      ],
      "metadata": {
        "id": "GNQzcKCnuLGC"
      },
      "execution_count": null,
      "outputs": []
    }
  ],
  "metadata": {
    "colab": {
      "collapsed_sections": [],
      "name": "python_ex3.ipynb",
      "provenance": [],
      "include_colab_link": true
    },
    "kernelspec": {
      "display_name": "Python 3",
      "language": "python",
      "name": "python3"
    },
    "language_info": {
      "codemirror_mode": {
        "name": "ipython",
        "version": 3
      },
      "file_extension": ".py",
      "mimetype": "text/x-python",
      "name": "python",
      "nbconvert_exporter": "python",
      "pygments_lexer": "ipython3",
      "version": "3.6.5"
    }
  },
  "nbformat": 4,
  "nbformat_minor": 0
}