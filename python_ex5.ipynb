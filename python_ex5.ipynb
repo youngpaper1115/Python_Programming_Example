{
  "cells": [
    {
      "cell_type": "markdown",
      "metadata": {
        "id": "view-in-github",
        "colab_type": "text"
      },
      "source": [
        "<a href=\"https://colab.research.google.com/github/youngpaper1115/Python_Programming_Example/blob/master/python_ex5.ipynb\" target=\"_parent\"><img src=\"https://colab.research.google.com/assets/colab-badge.svg\" alt=\"Open In Colab\"/></a>"
      ]
    },
    {
      "cell_type": "markdown",
      "source": [
        "**이름: 이종영**"
      ],
      "metadata": {
        "id": "CRlHhOl2_1Nw"
      }
    },
    {
      "cell_type": "code",
      "execution_count": 2,
      "metadata": {
        "id": "LlvUfw5B_zS_"
      },
      "outputs": [],
      "source": [
        "import numpy as np"
      ]
    },
    {
      "cell_type": "markdown",
      "metadata": {
        "id": "3nSNsY6ULlMv"
      },
      "source": [
        "## 1. 1 부터 9까지의 값을 순차적으로 갖는 3x3 행렬을 생성하시오"
      ]
    },
    {
      "cell_type": "code",
      "execution_count": 3,
      "metadata": {
        "colab": {
          "base_uri": "https://localhost:8080/"
        },
        "id": "gp1a-QcPJUiV",
        "outputId": "815eec69-133a-4df3-fe8b-a2f30f9ab1bc"
      },
      "outputs": [
        {
          "output_type": "stream",
          "name": "stdout",
          "text": [
            "[[1 2 3]\n",
            " [4 5 6]\n",
            " [7 8 9]]\n"
          ]
        }
      ],
      "source": [
        "z = np.arange(1,10).reshape(3,3)\n",
        "print(z)"
      ]
    },
    {
      "cell_type": "markdown",
      "metadata": {
        "id": "05x3xuXLLtVT"
      },
      "source": [
        "## 2.  i번째 열은 원소값으로 모두 (i-1)을 갖는 5x5 행렬을 생성하시오\n"
      ]
    },
    {
      "cell_type": "code",
      "source": [
        "np.arange(5)"
      ],
      "metadata": {
        "colab": {
          "base_uri": "https://localhost:8080/"
        },
        "id": "aJojPzCDu2ME",
        "outputId": "d41c8f0e-f64b-4072-a4af-daa56ed81ffe"
      },
      "execution_count": 4,
      "outputs": [
        {
          "output_type": "execute_result",
          "data": {
            "text/plain": [
              "array([0, 1, 2, 3, 4])"
            ]
          },
          "metadata": {},
          "execution_count": 4
        }
      ]
    },
    {
      "cell_type": "code",
      "execution_count": 5,
      "metadata": {
        "id": "RBSxTgt2JX-V"
      },
      "outputs": [],
      "source": [
        "z = np.zeros((5,5), dtype = float)\n",
        "z += np.arange(5)"
      ]
    },
    {
      "cell_type": "code",
      "execution_count": 6,
      "metadata": {
        "id": "am9t7R8y_zTE",
        "outputId": "bcd8a059-8819-4856-acb8-aa8e4b53c560",
        "colab": {
          "base_uri": "https://localhost:8080/"
        }
      },
      "outputs": [
        {
          "output_type": "stream",
          "name": "stdout",
          "text": [
            "[[0. 1. 2. 3. 4.]\n",
            " [0. 1. 2. 3. 4.]\n",
            " [0. 1. 2. 3. 4.]\n",
            " [0. 1. 2. 3. 4.]\n",
            " [0. 1. 2. 3. 4.]]\n"
          ]
        }
      ],
      "source": [
        "print(z)"
      ]
    },
    {
      "cell_type": "markdown",
      "metadata": {
        "id": "Id8b4Ry0LuqQ"
      },
      "source": [
        "## 3. integer(32 bit) ndarray를 float(32 bit) ndarray로 바꾸려면 어떻게 해야하는가?"
      ]
    },
    {
      "cell_type": "code",
      "execution_count": 7,
      "metadata": {
        "id": "T44n3GT_JYBn"
      },
      "outputs": [],
      "source": [
        "z = np.arange(10, dtype=np.int32)"
      ]
    },
    {
      "cell_type": "code",
      "execution_count": 8,
      "metadata": {
        "id": "pi9Dyx96_zTF",
        "outputId": "6e8876e6-6357-48b2-d7d5-3f5dc5f5e0b4",
        "colab": {
          "base_uri": "https://localhost:8080/"
        }
      },
      "outputs": [
        {
          "output_type": "stream",
          "name": "stdout",
          "text": [
            "[0. 1. 2. 3. 4. 5. 6. 7. 8. 9.]\n"
          ]
        }
      ],
      "source": [
        "z_new = np.float32(z)\n",
        "print(z_new)"
      ]
    },
    {
      "cell_type": "markdown",
      "metadata": {
        "id": "aDSx43F0_zTG"
      },
      "source": [
        "## 4. quest.pickle 파일에는 5점 만점으로 된 설문조사 결과가 배열로 저장되어 있다. 이 파일을 읽어와서 설문조사 결과 5점 초과하는 값이 있는지 살펴보고 있을 경우 모두 5로 변경하여라. "
      ]
    },
    {
      "cell_type": "code",
      "source": [
        "from google.colab import drive\n",
        "drive.mount('/content/drive')"
      ],
      "metadata": {
        "colab": {
          "base_uri": "https://localhost:8080/"
        },
        "id": "aJ4IyZh7Ph8H",
        "outputId": "858a33d0-8dc5-466d-ced4-55e4b859dc20"
      },
      "execution_count": 9,
      "outputs": [
        {
          "output_type": "stream",
          "name": "stdout",
          "text": [
            "Mounted at /content/drive\n"
          ]
        }
      ]
    },
    {
      "cell_type": "code",
      "source": [
        "import pickle"
      ],
      "metadata": {
        "id": "fTv-d5rEP--7"
      },
      "execution_count": 10,
      "outputs": []
    },
    {
      "cell_type": "code",
      "execution_count": 11,
      "metadata": {
        "id": "yU3vUrX4_zTG"
      },
      "outputs": [],
      "source": [
        "#colab을 사용하시는 분들은 이전 과제에서 사용했던 것처럼 google drive mount와 파일 경로 지정을 해주셔야 합니다.\n",
        "quest = np.load('/content/drive/My Drive/Python_SNU/data/quest.pickle', allow_pickle=True)"
      ]
    },
    {
      "cell_type": "code",
      "source": [
        "quest"
      ],
      "metadata": {
        "colab": {
          "base_uri": "https://localhost:8080/"
        },
        "id": "d1C24_ZxvYR0",
        "outputId": "613d0312-0711-4f0f-d0ff-9f169acf9e7a"
      },
      "execution_count": 14,
      "outputs": [
        {
          "output_type": "execute_result",
          "data": {
            "text/plain": [
              "array([[1, 2, 1, 2, 2],\n",
              "       [1, 3, 2, 3, 2],\n",
              "       [1, 4, 3, 3, 3],\n",
              "       [2, 5, 4, 4, 4],\n",
              "       [2, 5, 6, 2, 5],\n",
              "       [3, 6, 4, 2, 5],\n",
              "       [3, 5, 4, 1, 6],\n",
              "       [3, 5, 5, 1, 3]])"
            ]
          },
          "metadata": {},
          "execution_count": 14
        }
      ]
    },
    {
      "cell_type": "code",
      "execution_count": 12,
      "metadata": {
        "id": "WNqg9fKD_zTG"
      },
      "outputs": [],
      "source": [
        "quest_new = np.where(quest>5,5,quest)"
      ]
    },
    {
      "cell_type": "code",
      "execution_count": 13,
      "metadata": {
        "id": "94NLtAY9_zTH",
        "colab": {
          "base_uri": "https://localhost:8080/"
        },
        "outputId": "e32aa180-1a28-4cbe-b74b-b66a094097be"
      },
      "outputs": [
        {
          "output_type": "stream",
          "name": "stdout",
          "text": [
            "[[1 2 1 2 2]\n",
            " [1 3 2 3 2]\n",
            " [1 4 3 3 3]\n",
            " [2 5 4 4 4]\n",
            " [2 5 5 2 5]\n",
            " [3 5 4 2 5]\n",
            " [3 5 4 1 5]\n",
            " [3 5 5 1 3]]\n"
          ]
        }
      ],
      "source": [
        "print(quest_new)"
      ]
    },
    {
      "cell_type": "code",
      "source": [
        ""
      ],
      "metadata": {
        "id": "HAurNFzZvWSe"
      },
      "execution_count": null,
      "outputs": []
    }
  ],
  "metadata": {
    "colab": {
      "name": "python_ex5.ipynb",
      "provenance": [],
      "collapsed_sections": [],
      "include_colab_link": true
    },
    "kernelspec": {
      "display_name": "Python 3",
      "language": "python",
      "name": "python3"
    },
    "language_info": {
      "codemirror_mode": {
        "name": "ipython",
        "version": 3
      },
      "file_extension": ".py",
      "mimetype": "text/x-python",
      "name": "python",
      "nbconvert_exporter": "python",
      "pygments_lexer": "ipython3",
      "version": "3.6.5"
    }
  },
  "nbformat": 4,
  "nbformat_minor": 0
}