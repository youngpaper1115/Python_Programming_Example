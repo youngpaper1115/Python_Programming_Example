{
  "cells": [
    {
      "cell_type": "markdown",
      "metadata": {
        "id": "view-in-github",
        "colab_type": "text"
      },
      "source": [
        "<a href=\"https://colab.research.google.com/github/youngpaper1115/Python_Programming_Example/blob/master/python_ex4.ipynb\" target=\"_parent\"><img src=\"https://colab.research.google.com/assets/colab-badge.svg\" alt=\"Open In Colab\"/></a>"
      ]
    },
    {
      "cell_type": "markdown",
      "source": [
        "**이름: 이종영**"
      ],
      "metadata": {
        "id": "XJZn_sZA_vET"
      }
    },
    {
      "cell_type": "markdown",
      "metadata": {
        "id": "gLn4MnJs_iVN"
      },
      "source": [
        "## 1. 다음은 Calculator 클래스이다. "
      ]
    },
    {
      "cell_type": "code",
      "execution_count": 1,
      "metadata": {
        "id": "BR1Wq1szCFSa"
      },
      "outputs": [],
      "source": [
        "class Calculator:\n",
        "    def __init__(self):\n",
        "        self.value = 0\n",
        "\n",
        "    def add(self, val):\n",
        "        self.value += val"
      ]
    },
    {
      "cell_type": "markdown",
      "metadata": {
        "id": "sEjk07jb_iVR"
      },
      "source": [
        "## 위 클래스를 상속하는 UpgradeCalculator를 만들고 값을 뺄 수 있는 minus 메서드를 추가해 보자. 즉, 다음과 같이 동작하는 클래스를 만들어 보자. "
      ]
    },
    {
      "cell_type": "code",
      "execution_count": 2,
      "metadata": {
        "id": "WY8AWm-xCVLX"
      },
      "outputs": [],
      "source": [
        "class UpgradeCalculator(Calculator):\n",
        "    def minus(self, val):\n",
        "        self.value -= val"
      ]
    },
    {
      "cell_type": "code",
      "execution_count": 3,
      "metadata": {
        "colab": {
          "base_uri": "https://localhost:8080/"
        },
        "id": "oL7I3ZNKCoCL",
        "outputId": "4f1cfa43-2a0c-4cda-873f-c95913d3a09a"
      },
      "outputs": [
        {
          "output_type": "stream",
          "name": "stdout",
          "text": [
            "4\n"
          ]
        }
      ],
      "source": [
        "cal = UpgradeCalculator()\n",
        "cal.add(5)\n",
        "cal.minus(1)\n",
        "\n",
        "print(cal.value)"
      ]
    },
    {
      "cell_type": "markdown",
      "metadata": {
        "id": "CwTBQRLL_iVU"
      },
      "source": [
        "## 2. 객체변수 value가 1000이상의 값은 가질 수 없도록 제한하는 MaxLimitCalculator 클래스를 만들어 보자. 즉 다음과 같이 동작해야 한다. 단, 1번 문제의 Calculator클래스를 상속하여 만들어라.  "
      ]
    },
    {
      "cell_type": "code",
      "execution_count": 4,
      "metadata": {
        "id": "fW_8cCj4De_J"
      },
      "outputs": [],
      "source": [
        "class MaxLimitCalculator(Calculator):\n",
        "    def add(self, val):\n",
        "        self.value +=val\n",
        "        if self.value > 1000:\n",
        "           self.value = 1000"
      ]
    },
    {
      "cell_type": "code",
      "execution_count": 5,
      "metadata": {
        "colab": {
          "base_uri": "https://localhost:8080/"
        },
        "id": "TGMe5bk5EVbX",
        "outputId": "7aa70566-33ad-48a9-9eb8-a69f26bd275d"
      },
      "outputs": [
        {
          "output_type": "stream",
          "name": "stdout",
          "text": [
            "1000\n"
          ]
        }
      ],
      "source": [
        "cal = MaxLimitCalculator()\n",
        "cal.add(600)\n",
        "cal.add(500)\n",
        "\n",
        "print(cal.value)"
      ]
    },
    {
      "cell_type": "code",
      "source": [
        ""
      ],
      "metadata": {
        "id": "nS1bka44vUkM"
      },
      "execution_count": null,
      "outputs": []
    }
  ],
  "metadata": {
    "colab": {
      "collapsed_sections": [],
      "name": "python_ex4.ipynb",
      "provenance": [],
      "include_colab_link": true
    },
    "kernelspec": {
      "display_name": "Python 3",
      "language": "python",
      "name": "python3"
    },
    "language_info": {
      "codemirror_mode": {
        "name": "ipython",
        "version": 3
      },
      "file_extension": ".py",
      "mimetype": "text/x-python",
      "name": "python",
      "nbconvert_exporter": "python",
      "pygments_lexer": "ipython3",
      "version": "3.6.5"
    }
  },
  "nbformat": 4,
  "nbformat_minor": 0
}