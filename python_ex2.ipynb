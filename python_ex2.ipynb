{
  "cells": [
    {
      "cell_type": "markdown",
      "metadata": {
        "id": "view-in-github",
        "colab_type": "text"
      },
      "source": [
        "<a href=\"https://colab.research.google.com/github/youngpaper1115/Python_Programming_Example/blob/master/python_ex2.ipynb\" target=\"_parent\"><img src=\"https://colab.research.google.com/assets/colab-badge.svg\" alt=\"Open In Colab\"/></a>"
      ]
    },
    {
      "cell_type": "markdown",
      "metadata": {
        "id": "Sakaugd26DK-"
      },
      "source": [
        "**이름: 이종영**"
      ]
    },
    {
      "cell_type": "markdown",
      "metadata": {
        "id": "fOqx33tc5-jH"
      },
      "source": [
        "### 1. 다음 코드의 결괏값은 무엇일까?"
      ]
    },
    {
      "cell_type": "code",
      "execution_count": null,
      "metadata": {
        "colab": {
          "base_uri": "https://localhost:8080/"
        },
        "id": "EmXdSm-qEKgu",
        "outputId": "6aad1eaf-d314-4d75-b261-e51ac7147d38"
      },
      "outputs": [
        {
          "name": "stdout",
          "output_type": "stream",
          "text": [
            "shirt\n"
          ]
        }
      ],
      "source": [
        "a = \"Life is too short, you need python\"\n",
        "if \"wife\" in a: print(\"wife\")\n",
        "elif \"python\" in a and \"you\" not in a: print(\"python\")\n",
        "elif \"shirt\" not in a: print(\"shirt\")\n",
        "elif \"need\" in a: print(\"need\")\n",
        "else: print(\"none\")\n",
        "\n",
        "# 정답: shirt"
      ]
    },
    {
      "cell_type": "markdown",
      "metadata": {
        "id": "m-2UfzIF5-jS"
      },
      "source": [
        "### 2. while문을 사용해 1부터 1000까지의 자연수 중 2의 배수의 합을 구해 보자. "
      ]
    },
    {
      "cell_type": "code",
      "execution_count": null,
      "metadata": {
        "colab": {
          "base_uri": "https://localhost:8080/"
        },
        "id": "1MVVxDOgFQt9",
        "outputId": "69847f0a-8ff1-4900-f59d-4461d1a97da3"
      },
      "outputs": [
        {
          "name": "stdout",
          "output_type": "stream",
          "text": [
            "250500\n"
          ]
        }
      ],
      "source": [
        "# 500\n",
        "result = 0\n",
        "i = 1\n",
        "while i <= 1000:\n",
        "    if i % 2 == 0:\n",
        "        result += i\n",
        "    i += 1\n",
        "print(result)"
      ]
    },
    {
      "cell_type": "markdown",
      "metadata": {
        "id": "o4YdLg1A5-jV"
      },
      "source": [
        "### 3. 리스트 중에서 짝수에만 2를 곱하여 저장하는 다음 코드가 있다."
      ]
    },
    {
      "cell_type": "code",
      "execution_count": null,
      "metadata": {
        "colab": {
          "base_uri": "https://localhost:8080/"
        },
        "id": "XKJLEhc5GTdZ",
        "outputId": "f0562930-4074-472b-ddf3-6dfdc3056b2a"
      },
      "outputs": [
        {
          "data": {
            "text/plain": [
              "[4, 8]"
            ]
          },
          "execution_count": 4,
          "metadata": {},
          "output_type": "execute_result"
        }
      ],
      "source": [
        "numbers = [1, 2, 3, 4, 5]\n",
        "\n",
        "result = []\n",
        "for n in numbers:\n",
        "    if n % 2 == 0:\n",
        "        result.append(n*2)\n",
        "        \n",
        "result"
      ]
    },
    {
      "cell_type": "markdown",
      "metadata": {
        "id": "bexWat3k5-jX"
      },
      "source": [
        "### 위 코드를 리스트 내포를 사용하여 표현해 보자."
      ]
    },
    {
      "cell_type": "code",
      "execution_count": null,
      "metadata": {
        "colab": {
          "base_uri": "https://localhost:8080/"
        },
        "id": "GAaIceoPNKnM",
        "outputId": "4ec5542b-32de-49dd-8470-66eb9a842784"
      },
      "outputs": [
        {
          "name": "stdout",
          "output_type": "stream",
          "text": [
            "[4, 8]\n"
          ]
        }
      ],
      "source": [
        "numbers = [1, 2, 3, 4, 5]\n",
        "result = [2*i for i in numbers if i % 2 == 0]\n",
        "print(result)"
      ]
    },
    {
      "cell_type": "markdown",
      "metadata": {
        "id": "3OjFTlzT5-jZ"
      },
      "source": [
        "### 4. 주어진 자연수가 홀수인지 짝수인지 판별해 주는 함수를 작성해 보자. "
      ]
    },
    {
      "cell_type": "code",
      "execution_count": null,
      "metadata": {
        "id": "V1s8AkhPOZbd"
      },
      "outputs": [],
      "source": [
        "def is_odd(number):\n",
        "    if number % 2 != 0:\n",
        "        return True\n",
        "    else:\n",
        "        return False"
      ]
    },
    {
      "cell_type": "code",
      "execution_count": null,
      "metadata": {
        "colab": {
          "base_uri": "https://localhost:8080/"
        },
        "id": "MoMCYl8JO1nr",
        "outputId": "9f34a6ad-4a2b-42e1-a544-96c1cd39b926"
      },
      "outputs": [
        {
          "data": {
            "text/plain": [
              "True"
            ]
          },
          "execution_count": 8,
          "metadata": {},
          "output_type": "execute_result"
        }
      ],
      "source": [
        "is_odd(3)"
      ]
    },
    {
      "cell_type": "code",
      "execution_count": null,
      "metadata": {
        "colab": {
          "base_uri": "https://localhost:8080/"
        },
        "id": "oNyXUs1nO1xz",
        "outputId": "22795837-6907-416b-d942-7a0bd39859b0"
      },
      "outputs": [
        {
          "data": {
            "text/plain": [
              "False"
            ]
          },
          "execution_count": 9,
          "metadata": {},
          "output_type": "execute_result"
        }
      ],
      "source": [
        "is_odd(4)"
      ]
    },
    {
      "cell_type": "markdown",
      "metadata": {
        "id": "Ayx9_KyB5-jb"
      },
      "source": [
        "### 5. 입력으로 들어오는 모든 수의 평균 값을 계산해 주는 함수를 작성해 보자. "
      ]
    },
    {
      "cell_type": "code",
      "execution_count": null,
      "metadata": {
        "id": "N0Wyn9DxO5wq"
      },
      "outputs": [],
      "source": [
        "def avg_numbers(*args):\n",
        "    result = 0\n",
        "    for i in args:\n",
        "        result += i\n",
        "    return result/len(args)"
      ]
    },
    {
      "cell_type": "code",
      "execution_count": null,
      "metadata": {
        "colab": {
          "base_uri": "https://localhost:8080/"
        },
        "id": "FV8YMOQSPY34",
        "outputId": "b938b099-7289-4dff-91e2-0ac650f11a70"
      },
      "outputs": [
        {
          "data": {
            "text/plain": [
              "5.5"
            ]
          },
          "execution_count": 12,
          "metadata": {},
          "output_type": "execute_result"
        }
      ],
      "source": [
        "avg_numbers(1,2,3,4,5,6,7,8,9,10)"
      ]
    },
    {
      "cell_type": "code",
      "execution_count": null,
      "metadata": {
        "colab": {
          "base_uri": "https://localhost:8080/"
        },
        "id": "o9Ofw2FwPb8V",
        "outputId": "85d792ab-acfe-42d7-dff7-de8e7a073c2e"
      },
      "outputs": [
        {
          "data": {
            "text/plain": [
              "3.0"
            ]
          },
          "execution_count": 13,
          "metadata": {},
          "output_type": "execute_result"
        }
      ],
      "source": [
        "avg_numbers(1,2,3,4,5)"
      ]
    }
  ],
  "metadata": {
    "colab": {
      "collapsed_sections": [],
      "name": "python_ex2.ipynb",
      "provenance": [],
      "include_colab_link": true
    },
    "kernelspec": {
      "display_name": "Python 3",
      "language": "python",
      "name": "python3"
    },
    "language_info": {
      "codemirror_mode": {
        "name": "ipython",
        "version": 3
      },
      "file_extension": ".py",
      "mimetype": "text/x-python",
      "name": "python",
      "nbconvert_exporter": "python",
      "pygments_lexer": "ipython3",
      "version": "3.9.10"
    }
  },
  "nbformat": 4,
  "nbformat_minor": 0
}